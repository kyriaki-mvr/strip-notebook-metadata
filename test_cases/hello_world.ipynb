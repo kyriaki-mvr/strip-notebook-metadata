{
 "cells": [
  {
   "cell_type": "code",
   "execution_count": 1,
   "id": "4a0f4ad1-52df-4bdb-b2d2-12acd2a43bfe",
   "metadata": {},
   "outputs": [],
   "source": [
    "# This is a test case"
   ]
  },
  {
   "cell_type": "code",
   "execution_count": 2,
   "id": "c3bf14cf-a861-4529-88d9-29d039ed9d3c",
   "metadata": {},
   "outputs": [
    {
     "name": "stdout",
     "output_type": "stream",
     "text": [
      "Hello world\n"
     ]
    }
   ],
   "source": [
    "print(\"Hello world\")"
   ]
  }
 ],
 "metadata": {
  "kernelspec": {
   "display_name": "Python 3 (ipykernel)",
   "language": "python",
   "name": "python3"
  },
  "language_info": {
   "codemirror_mode": {
    "name": "ipython",
    "version": 3
   },
   "file_extension": ".py",
   "mimetype": "text/x-python",
   "name": "python",
   "nbconvert_exporter": "python",
   "pygments_lexer": "ipython3",
   "version": "3.9.6"
  }
 },
 "nbformat": 4,
 "nbformat_minor": 5
}
