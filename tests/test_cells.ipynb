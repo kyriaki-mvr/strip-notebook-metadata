{
 "cells": [
  {
   "cell_type": "code",
   "execution_count": 1,
   "id": "4a0f4ad1-52df-4bdb-b2d2-12acd2a43bfe",
   "metadata": {},
   "outputs": [],
   "source": [
    "# this is a test case"
   ]
  },
  {
   "cell_type": "code",
   "execution_count": 2,
   "id": "708b3d45",
   "metadata": {},
   "outputs": [
    {
     "name": "stdout",
     "output_type": "stream",
     "text": [
      "1\n",
      "2\n"
     ]
    }
   ],
   "source": [
    "x = 1\n",
    "y = 2\n",
    "print(x)\n",
    "print(y)"
   ]
  }
 ],
 "metadata": {
  "kernelspec": {
   "display_name": "basic_env",
   "language": "python",
   "name": "python3"
  },
  "language_info": {
   "codemirror_mode": {
    "name": "ipython",
    "version": 3
   },
   "file_extension": ".py",
   "mimetype": "text/x-python",
   "name": "python",
   "nbconvert_exporter": "python",
   "pygments_lexer": "ipython3",
   "version": "3.13.1"
  }
 },
 "nbformat": 4,
 "nbformat_minor": 5
}
